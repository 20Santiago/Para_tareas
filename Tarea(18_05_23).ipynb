{
  "nbformat": 4,
  "nbformat_minor": 0,
  "metadata": {
    "colab": {
      "provenance": [],
      "authorship_tag": "ABX9TyN4ZbqXt9wixZMRqbRtWqHy",
      "include_colab_link": true
    },
    "kernelspec": {
      "name": "python3",
      "display_name": "Python 3"
    },
    "language_info": {
      "name": "python"
    }
  },
  "cells": [
    {
      "cell_type": "markdown",
      "metadata": {
        "id": "view-in-github",
        "colab_type": "text"
      },
      "source": [
        "<a href=\"https://colab.research.google.com/github/20Santiago/Para_tareas/blob/master/Tarea(18_05_23).ipynb\" target=\"_parent\"><img src=\"https://colab.research.google.com/assets/colab-badge.svg\" alt=\"Open In Colab\"/></a>"
      ]
    },
    {
      "cell_type": "markdown",
      "source": [
        "#**Santiago Aguilar Cardenas** (Trabajo del día 18/05/23)\n",
        "\n"
      ],
      "metadata": {
        "id": "W6MZFitUSgsW"
      }
    },
    {
      "cell_type": "markdown",
      "source": [
        "Construya dos clases, una **padre** y una **hija**. La clase padre debe de tener al menos **tres métodos**, uno de los cuales debe ser **dunder**. Para la hija:\n",
        "\n",
        "\n",
        "\n",
        "*   **Heredar** y Modificar los tres métodos.\n",
        "*   Usar dos tipos de **colecciones** diferentes.\n",
        "*   Usar un método **aleatorio** o scipy.\n",
        "\n",
        "\n",
        "\n",
        "\n"
      ],
      "metadata": {
        "id": "LO9BXHL7Syq_"
      }
    },
    {
      "cell_type": "code",
      "execution_count": 1,
      "metadata": {
        "id": "dlZyDlirtgFu",
        "colab": {
          "base_uri": "https://localhost:8080/"
        },
        "outputId": "f250ac80-331d-410f-9e92-8a70ce1b52be"
      },
      "outputs": [
        {
          "output_type": "stream",
          "name": "stdout",
          "text": [
            "Hola, soy la hija. Mi nombre es Luciana y tengo 5 añitos. Soy hermana de Santi.\n",
            "Este es un método común (modificado)\n",
            "Este es el método modificado\n",
            "Número aleatorio entre 1 y 100 : 18\n"
          ]
        }
      ],
      "source": [
        "import random\n",
        "\n",
        "#Esta es la clase Padre.\n",
        "class Padre:  \n",
        "    def __init__(self, nombre):\n",
        "        self.nombre = nombre\n",
        "\n",
        "    #Generamos los respectivos métodos. Nótese que el método dunder es __str__.\n",
        "    def __str__(self):\n",
        "        return f\"Padre: {self.nombre}\"\n",
        "\n",
        "    def saludar(self):\n",
        "        print(\"Hola, soy el padre y mi nombre es\", self.nombre)\n",
        "\n",
        "    def metodo_comun(self):\n",
        "        print(\"Este es un método común de la clase Padre\")\n",
        "\n",
        "    def metodo_modificar(self):\n",
        "        print(\"Este es el método a modificar en la clase Hija\")\n",
        "\n",
        "\n",
        "\n",
        "#Esta es la clase Hija.\n",
        "class Hija(Padre):  \n",
        "    def __init__(self, nombre, edad):\n",
        "        super().__init__(nombre)\n",
        "        self.edad = edad\n",
        "\n",
        "    def saludar(self):\n",
        "        print(\"Hola, soy la hija. Mi nombre es\", self.nombre, \"y tengo\", self.edad, \"añitos. Soy hermana de Santi.\")\n",
        "\n",
        "    def metodo_comun(self):\n",
        "        print(\"Este es un método común (modificado)\")\n",
        "\n",
        "    def metodo_modificar(self):\n",
        "        print(\"Este es el método modificado\")\n",
        "\n",
        "    #Método aleatorio.\n",
        "    def generar_numero_aleatorio(self, limite_superior):\n",
        "        numero_aleatorio = random.randint(1, limite_superior)\n",
        "        return numero_aleatorio\n",
        "\n",
        "\n",
        "#Para su respectivo uso:\n",
        "hija = Hija(\"Luciana\", 5)\n",
        "hija.saludar()\n",
        "hija.metodo_comun()\n",
        "hija.metodo_modificar()\n",
        "\n",
        "limite_superior = 100\n",
        "numero_aleatorio = hija.generar_numero_aleatorio(limite_superior)\n",
        "print(\"Número aleatorio entre 1 y\", limite_superior, \":\", numero_aleatorio)\n"
      ]
    }
  ]
}