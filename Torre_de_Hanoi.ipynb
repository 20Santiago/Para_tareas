{
  "nbformat": 4,
  "nbformat_minor": 0,
  "metadata": {
    "colab": {
      "provenance": [],
      "authorship_tag": "ABX9TyNSFL/iPFVYQdMy7MXZPur6",
      "include_colab_link": true
    },
    "kernelspec": {
      "name": "python3",
      "display_name": "Python 3"
    },
    "language_info": {
      "name": "python"
    }
  },
  "cells": [
    {
      "cell_type": "markdown",
      "metadata": {
        "id": "view-in-github",
        "colab_type": "text"
      },
      "source": [
        "<a href=\"https://colab.research.google.com/github/20Santiago/Para_tareas/blob/master/Torre_de_Hanoi.ipynb\" target=\"_parent\"><img src=\"https://colab.research.google.com/assets/colab-badge.svg\" alt=\"Open In Colab\"/></a>"
      ]
    },
    {
      "cell_type": "markdown",
      "source": [
        "# **Santiago Aguilar Cardenas** (Torre de Hanoi)"
      ],
      "metadata": {
        "id": "NCKAFqkQVzqr"
      }
    },
    {
      "cell_type": "code",
      "execution_count": 1,
      "metadata": {
        "colab": {
          "base_uri": "https://localhost:8080/"
        },
        "id": "q4q32dBAVy9c",
        "outputId": "917c85d6-9469-4dff-f190-d40576fc6a76"
      },
      "outputs": [
        {
          "output_type": "stream",
          "name": "stdout",
          "text": [
            "Bienvenido al juego de la Torre de Hanoi\n",
            "¿Con cuántos discos quiere jugar?3\n",
            "Comenzando el juego con 3 discos\n",
            "Los movimientos a realizar son:\n",
            "Mueve el disco 1 de A a C\n",
            "Mueve el disco 2 de A a B\n",
            "Mueve el disco 1 de C a B\n",
            "Mueve el disco 3 de A a C\n",
            "Mueve el disco 1 de B a A\n",
            "Mueve el disco 2 de B a C\n",
            "Mueve el disco 1 de A a C\n"
          ]
        }
      ],
      "source": [
        "def Hanoi(n, origen, destino, auxiliar):\n",
        "    if n == 1:\n",
        "        print(f\"Mueve el disco 1 de {origen} a {destino}\")\n",
        "    else:\n",
        "        Hanoi(n-1, origen, auxiliar, destino)\n",
        "        print(f\"Mueve el disco {n} de {origen} a {destino}\")\n",
        "        Hanoi(n-1, auxiliar, destino, origen)\n",
        "\n",
        "# Menú de usuario\n",
        "print(\"Bienvenido al juego de la Torre de Hanoi\")\n",
        "while True:\n",
        "    try:\n",
        "        discos = int(input(\"¿Con cuántos discos quiere jugar?\"))\n",
        "        if discos <= 0:\n",
        "            print(\"Lo sentimos, el número de discos debe ser mayor que cero\")\n",
        "        else:\n",
        "            break\n",
        "    except ValueError:\n",
        "        print(\"Lo sentimos, debe ingresar un número entero\")\n",
        "\n",
        "print(f\"Comenzando el juego con {discos} discos\")\n",
        "print(\"Los movimientos a realizar son:\")\n",
        "Hanoi(discos, \"A\", \"C\", \"B\")"
      ]
    }
  ]
}