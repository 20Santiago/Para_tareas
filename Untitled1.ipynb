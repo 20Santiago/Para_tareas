{
  "nbformat": 4,
  "nbformat_minor": 0,
  "metadata": {
    "colab": {
      "provenance": [],
      "authorship_tag": "ABX9TyPw+ZN+uPdR67aOvFSDNmtC",
      "include_colab_link": true
    },
    "kernelspec": {
      "name": "python3",
      "display_name": "Python 3"
    },
    "language_info": {
      "name": "python"
    }
  },
  "cells": [
    {
      "cell_type": "markdown",
      "metadata": {
        "id": "view-in-github",
        "colab_type": "text"
      },
      "source": [
        "<a href=\"https://colab.research.google.com/github/20Santiago/Para_tareas/blob/master/Untitled1.ipynb\" target=\"_parent\"><img src=\"https://colab.research.google.com/assets/colab-badge.svg\" alt=\"Open In Colab\"/></a>"
      ]
    },
    {
      "cell_type": "markdown",
      "source": [
        "Tarea del día: 27/03//23"
      ],
      "metadata": {
        "id": "e9c_msgftF-5"
      }
    },
    {
      "cell_type": "code",
      "execution_count": null,
      "metadata": {
        "id": "jCyHICpTs9v4"
      },
      "outputs": [],
      "source": [
        "#Tarea del día: 27/03/23\n",
        "\n",
        "from string import punctuation\n",
        "import random\n",
        "\n",
        "def palabra_a_vector(palabra):\n",
        "    for i in punctuation:\n",
        "        palabra = palabra.replace(i, \"\")\n",
        "    tildes = \"áéíóúÁÉÍÓÚ\"\n",
        "    for i in range(len(tildes)):\n",
        "        palabra = palabra.replace(tildes[i], \"áéíóúÁÉÍÓÚ\"[i])\n",
        "    palabra = palabra.split()\n",
        "    vector = []\n",
        "    for i in palabra:\n",
        "        vector.append(len(i))\n",
        "    return(vector)\n",
        "\n",
        "#print(palabra_a_vector(\"Él estaba tátáreándo\"))\n",
        "\n",
        "def matriznxn(n):\n",
        "    matriz = []\n",
        "    for i in range(n):\n",
        "        fila = []\n",
        "        for j in range(n):\n",
        "            fila.append(random.randint(1, 10))\n",
        "        matriz.append(fila)\n",
        "    return matriz\n",
        "\n",
        "# N = 4  # Tamaño de la matriz\n",
        "# matriz = matriznxn(N)\n",
        "# print(matriz)\n",
        "\n",
        "def ordenar_indices(vector):\n",
        "    indices = []\n",
        "    for j in range(len(vector)):\n",
        "        indices.append(j)\n",
        "    for i in range(len(vector)):\n",
        "        for j in range(len(vector)):\n",
        "            if vector[j] < vector[i]:\n",
        "                vector[j], vector[i] = vector[i], vector[j]\n",
        "                indices[j], indices[i] = indices[i], indices[j]\n",
        "    return indices\n",
        "\n",
        "vector = [5, 10, 2, 8, 3, 7]\n",
        "print(vector)\n",
        "indices = ordenar_indices(vector)\n",
        "print(indices)"
      ]
    }
  ]
}